{
 "cells": [
  {
   "cell_type": "markdown",
   "source": [
    "# Dara Preprocessing"
   ],
   "metadata": {
    "collapsed": false
   },
   "id": "4a0065664a63e36c"
  },
  {
   "cell_type": "code",
   "execution_count": 6,
   "outputs": [
    {
     "name": "stdout",
     "output_type": "stream",
     "text": [
      "Word: التهجير, Label: O\n",
      "Word: التي, Label: O\n",
      "Word: سلكها, Label: O\n",
      "Word: الفلسطينيون, Label: B-NORP\n",
      "Word: أثناء, Label: O\n",
      "Word: حرب, Label: B-EVENT\n",
      "Word: 1948, Label: I-EVENT\n",
      "Word: (, Label: O\n",
      "Word: النكبة, Label: B-EVENT\n",
      "Word: ), Label: O\n",
      "Word: ., Label: O\n",
      "Word: صورة, Label: O\n",
      "Word: رئيس, Label: B-OCC\n",
      "Word: مجلس, Label: I-OCC\n",
      "Word: محلي, Label: I-OCC\n",
      "Word: بيرزيت, Label: I-OCC\n",
      "Word: بطرس, Label: B-PERS\n",
      "Word: مسلم, Label: I-PERS\n",
      "Word: عرنكي, Label: I-PERS\n",
      "Word: (, Label: O\n",
      "Word: 1925, Label: B-DATE\n",
      "Word: /, Label: I-DATE\n",
      "Word: 1937, Label: I-DATE\n",
      "Word: ), Label: O\n",
      "Word: ., Label: O\n",
      "Word: رخصة, Label: O\n",
      "Word: عمل, Label: O\n",
      "Word: يوسف, Label: B-PERS\n",
      "Word: مصطفى, Label: I-PERS\n",
      "Word: خليل, Label: I-PERS\n",
      "Word: ., Label: O\n"
     ]
    }
   ],
   "source": [
    "\n",
    "data = []\n",
    "\n",
    "with open('data/try.txt', 'r', encoding='utf-8') as file:\n",
    "    for line in file:\n",
    "        line = line.strip()\n",
    "        \n",
    "        # Skip empty lines\n",
    "        if not line:\n",
    "            continue\n",
    "        \n",
    "        word, label = line.rsplit(' ', 1)  \n",
    "        data.append((word, label))\n",
    "\n",
    "# Print the structured data\n",
    "for word, label in data:\n",
    "    print(f\"Word: {word}, Label: {label}\")\n",
    "    "
   ],
   "metadata": {
    "collapsed": false,
    "ExecuteTime": {
     "end_time": "2024-12-26T13:50:06.559990900Z",
     "start_time": "2024-12-26T13:50:06.530343400Z"
    }
   },
   "id": "3379ec346fe78e6f"
  },
  {
   "cell_type": "markdown",
   "source": [
    "## Remove unwanted entities"
   ],
   "metadata": {
    "collapsed": false
   },
   "id": "e94da199240259d0"
  },
  {
   "cell_type": "code",
   "execution_count": 7,
   "outputs": [
    {
     "name": "stdout",
     "output_type": "stream",
     "text": [
      "\n",
      "\n",
      "\n",
      "Before removing unwanted entities\n",
      "Word: الفلسطينيون, Label: B-PER\n",
      "Word: حرب, Label: B-EVE\n",
      "Word: 1948, Label: I-EVE\n",
      "Word: النكبة, Label: B-EVE\n",
      "Word: رئيس, Label: O\n",
      "Word: مجلس, Label: O\n",
      "Word: محلي, Label: O\n",
      "Word: بيرزيت, Label: O\n",
      "Word: بطرس, Label: B-PER\n",
      "Word: مسلم, Label: I-PER\n",
      "Word: عرنكي, Label: I-PER\n",
      "Word: 1925, Label: B-TIME\n",
      "Word: /, Label: I-TIME\n",
      "Word: 1937, Label: I-TIME\n",
      "Word: يوسف, Label: B-PER\n",
      "Word: مصطفى, Label: I-PER\n",
      "Word: خليل, Label: I-PER\n"
     ]
    }
   ],
   "source": [
    "# create array of unwanted entities\n",
    "unwanted_entities = ['I-WEBSITE', 'I-OCC', 'I-FAC', 'I-PRODUCT', 'I-LAW', 'I-UNIT', 'I-ORDINAL',\n",
    "                     'B-WEBSITE', 'B-OCC', 'B-FAC', 'B-PRODUCT', 'B-LAW', 'B-UNIT', 'B-ORDINAL']\n",
    "\n",
    "replacing_entities = { 'ORG': 'ORG', \n",
    "                       'TIME': 'TIME', \n",
    "                       'DATE': 'TIME', \n",
    "                       'GPE': 'LOC', \n",
    "                       'LOC': 'LOC', \n",
    "                       'CURR': 'MON', \n",
    "                       'MONEY': 'MON', \n",
    "                       'NORP': 'PER', \n",
    "                       'PERS': 'PER', \n",
    "                       'EVENT': 'EVE', \n",
    "                       'PERCENT': 'NUM', \n",
    "                       'QUANTITY': 'NUM', \n",
    "                       'CARDINAL': 'NUM', \n",
    "                       'LANGUAGE': 'LAN' }\n",
    "\n",
    "print(\"Before removing unwanted entities\")\n",
    "\n",
    "for word, label in data:\n",
    "    if label in unwanted_entities:\n",
    "        label = 'O'\n",
    "        print(f\"Word: {word}, Label: {label}\")\n",
    "        \n",
    "    label_without_prefix = label.split('-')[-1]\n",
    "    prefix = label.split('-')[0]\n",
    "    if label_without_prefix in replacing_entities:\n",
    "        label = prefix + '-' + replacing_entities[label_without_prefix]\n",
    "        print(f\"Word: {word}, Label: {label}\")\n",
    "\n"
   ],
   "metadata": {
    "collapsed": false,
    "ExecuteTime": {
     "end_time": "2024-12-26T13:50:06.621421200Z",
     "start_time": "2024-12-26T13:50:06.547755500Z"
    }
   },
   "id": "c91fc9eb97d5e509"
  }
 ],
 "metadata": {
  "kernelspec": {
   "display_name": "Python 3",
   "language": "python",
   "name": "python3"
  },
  "language_info": {
   "codemirror_mode": {
    "name": "ipython",
    "version": 2
   },
   "file_extension": ".py",
   "mimetype": "text/x-python",
   "name": "python",
   "nbconvert_exporter": "python",
   "pygments_lexer": "ipython2",
   "version": "2.7.6"
  }
 },
 "nbformat": 4,
 "nbformat_minor": 5
}
