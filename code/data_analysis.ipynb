{
 "cells": [
  {
   "cell_type": "markdown",
   "source": [
    "# Dara Preprocessing"
   ],
   "metadata": {
    "collapsed": false
   },
   "id": "4a0065664a63e36c"
  },
  {
   "cell_type": "code",
   "execution_count": 21,
   "outputs": [],
   "source": [
    "\n",
    "data = []\n",
    "\n",
    "with open('data/train.txt', 'r', encoding='utf-8') as file:\n",
    "    for line in file:\n",
    "        line = line.strip()\n",
    "        \n",
    "        # Skip empty lines\n",
    "        if not line:\n",
    "            continue\n",
    "        \n",
    "        word, label = line.rsplit(' ', 1)  \n",
    "        data.append((word, label))\n",
    "\n",
    "\n",
    "    "
   ],
   "metadata": {
    "collapsed": false,
    "ExecuteTime": {
     "end_time": "2024-12-26T14:16:00.476662800Z",
     "start_time": "2024-12-26T14:16:00.082012400Z"
    }
   },
   "id": "3379ec346fe78e6f"
  },
  {
   "cell_type": "markdown",
   "source": [
    "## Remove unwanted entities"
   ],
   "metadata": {
    "collapsed": false
   },
   "id": "e94da199240259d0"
  },
  {
   "cell_type": "code",
   "execution_count": 22,
   "outputs": [
    {
     "name": "stdout",
     "output_type": "stream",
     "text": [
      "Before removing unwanted entities\n"
     ]
    }
   ],
   "source": [
    "# create array of unwanted entities\n",
    "unwanted_entities = ['I-WEBSITE', 'I-OCC', 'I-FAC', 'I-PRODUCT', 'I-LAW', 'I-UNIT', 'I-ORDINAL',\n",
    "                     'B-WEBSITE', 'B-OCC', 'B-FAC', 'B-PRODUCT', 'B-LAW', 'B-UNIT', 'B-ORDINAL']\n",
    "\n",
    "replacing_entities = { 'ORG': 'ORG', \n",
    "                       'TIME': 'TIME', \n",
    "                       'DATE': 'TIME', \n",
    "                       'GPE': 'LOC', \n",
    "                       'LOC': 'LOC', \n",
    "                       'CURR': 'MON', \n",
    "                       'MONEY': 'MON', \n",
    "                       'NORP': 'PER', \n",
    "                       'PERS': 'PER', \n",
    "                       'EVENT': 'EVE', \n",
    "                       'PERCENT': 'NUM', \n",
    "                       'QUANTITY': 'NUM', \n",
    "                       'CARDINAL': 'NUM', \n",
    "                       'LANGUAGE': 'LAN' }\n",
    "\n",
    "print(\"Before removing unwanted entities\")\n",
    "\n",
    "for index, (word, label) in enumerate(data) :\n",
    "    if label in unwanted_entities:\n",
    "        data[index] = (word, 'O')\n",
    "\n",
    "    label_without_prefix = label.split('-')[-1]\n",
    "    prefix = label.split('-')[0]\n",
    "    if label_without_prefix in replacing_entities:\n",
    "        data[index] = (word, prefix + '-' + replacing_entities[label_without_prefix])\n",
    "\n",
    "\n",
    "# create new text file with the new data\n",
    "with open('data/train_cleaned.txt', 'w', encoding='utf-8') as file:\n",
    "    for word, label in data:\n",
    "        file.write(f'{word} {label}\\n')\n",
    "\n"
   ],
   "metadata": {
    "collapsed": false,
    "ExecuteTime": {
     "end_time": "2024-12-26T14:16:00.967674200Z",
     "start_time": "2024-12-26T14:16:00.479669Z"
    }
   },
   "id": "c91fc9eb97d5e509"
  }
 ],
 "metadata": {
  "kernelspec": {
   "display_name": "Python 3",
   "language": "python",
   "name": "python3"
  },
  "language_info": {
   "codemirror_mode": {
    "name": "ipython",
    "version": 2
   },
   "file_extension": ".py",
   "mimetype": "text/x-python",
   "name": "python",
   "nbconvert_exporter": "python",
   "pygments_lexer": "ipython2",
   "version": "2.7.6"
  }
 },
 "nbformat": 4,
 "nbformat_minor": 5
}
