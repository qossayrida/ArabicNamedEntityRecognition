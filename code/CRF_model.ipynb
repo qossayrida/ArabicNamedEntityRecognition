{
 "cells": [
  {
   "cell_type": "code",
   "execution_count": null,
   "id": "initial_id",
   "metadata": {
    "collapsed": true
   },
   "outputs": [],
   "source": [
    "def extract_features(tokens):\n",
    "    features = []\n",
    "    for i, token in enumerate(tokens):\n",
    "        token_features = {\n",
    "            'word': token,\n",
    "            'is_digit': token.isdigit(),\n",
    "            'prefix1': token[:1],\n",
    "            'suffix1': token[-1:],\n",
    "            'is_arabic': all('\\u0600' <= char <= '\\u06FF' for char in token),\n",
    "        }\n",
    "        if i > 0:\n",
    "            token_features['prev_word'] = tokens[i - 1]\n",
    "        else:\n",
    "            token_features['prev_word'] = '<START>'\n",
    "        if i < len(tokens) - 1:\n",
    "            token_features['next_word'] = tokens[i + 1]\n",
    "        else:\n",
    "            token_features['next_word'] = '<END>'\n",
    "        features.append(token_features)\n",
    "    return features\n"
   ]
  }
 ],
 "metadata": {
  "kernelspec": {
   "display_name": "Python 3",
   "language": "python",
   "name": "python3"
  },
  "language_info": {
   "codemirror_mode": {
    "name": "ipython",
    "version": 2
   },
   "file_extension": ".py",
   "mimetype": "text/x-python",
   "name": "python",
   "nbconvert_exporter": "python",
   "pygments_lexer": "ipython2",
   "version": "2.7.6"
  }
 },
 "nbformat": 4,
 "nbformat_minor": 5
}
