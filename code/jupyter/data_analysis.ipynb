{
 "cells": [
  {
   "cell_type": "markdown",
   "source": [
    "# Dara Preprocessing\n",
    "\n",
    "We have merged the 21st categories into 8 categories;\n",
    "we have removed seven categories; website, occupation, product, facility, law, unit, and ordinal.\n",
    "\n",
    "We have also merged currency (CURR) and money into MON, TIME and DATE into TIME, PERS and (NORP) into PER, LOC and GPE into LOC ,and PERCENT, QUANTITY, and CARDINAL into NUM. The rest stayed the same."
   ],
   "metadata": {
    "collapsed": false
   },
   "id": "4a0065664a63e36c"
  },
  {
   "cell_type": "markdown",
   "source": [
    "### Declare arrays and dictionaries"
   ],
   "metadata": {
    "collapsed": false
   },
   "id": "cb3ff30df846ced8"
  },
  {
   "cell_type": "code",
   "execution_count": 15,
   "outputs": [],
   "source": [
    "data = []\n",
    "\n",
    "# create array of unwanted entities\n",
    "unwanted_entities = ['I-WEBSITE', 'I-OCC', 'I-FAC', 'I-PRODUCT', 'I-LAW', 'I-UNIT', 'I-ORDINAL',\n",
    "                     'B-WEBSITE', 'B-OCC', 'B-FAC', 'B-PRODUCT', 'B-LAW', 'B-UNIT', 'B-ORDINAL']\n",
    "\n",
    "# create dictionary of entities to replace\n",
    "replacing_entities = { 'ORG': 'ORG', \n",
    "                       'TIME': 'TIME', \n",
    "                       'DATE': 'TIME', \n",
    "                       'GPE': 'LOC', \n",
    "                       'LOC': 'LOC', \n",
    "                       'CURR': 'MON', \n",
    "                       'MONEY': 'MON', \n",
    "                       'NORP': 'PER', \n",
    "                       'PERS': 'PER', \n",
    "                       'EVENT': 'EVE', \n",
    "                       'PERCENT': 'NUM', \n",
    "                       'QUANTITY': 'NUM', \n",
    "                       'CARDINAL': 'NUM', \n",
    "                       'LANGUAGE': 'LAN' }\n"
   ],
   "metadata": {
    "collapsed": false,
    "ExecuteTime": {
     "end_time": "2024-12-26T19:16:23.365897900Z",
     "start_time": "2024-12-26T19:16:23.177961200Z"
    }
   },
   "id": "3379ec346fe78e6f"
  },
  {
   "cell_type": "markdown",
   "source": [
    "### Clean data"
   ],
   "metadata": {
    "collapsed": false
   },
   "id": "e94da199240259d0"
  },
  {
   "cell_type": "code",
   "execution_count": 16,
   "outputs": [],
   "source": [
    "file_to_clean = [\"data/train.txt\", \"data/test.txt\", \"data/val.txt\"]\n",
    "\n",
    "\n",
    "for name in file_to_clean:\n",
    "    with open(name, 'r', encoding='utf-8') as file:\n",
    "        for line in file:\n",
    "            line = line.strip()\n",
    "        \n",
    "            if not line:\n",
    "                data.append((\"newline\", \"newline\"))\n",
    "                continue\n",
    "        \n",
    "            word, label = line.rsplit(' ', 1)  \n",
    "            data.append((word, label))\n",
    "\n",
    "    for index, (word, label) in enumerate(data) :\n",
    "        if label in unwanted_entities:\n",
    "            data[index] = (word, 'O')\n",
    "\n",
    "        label_without_prefix = label.split('-')[-1]\n",
    "        prefix = label.split('-')[0]\n",
    "        if label_without_prefix in replacing_entities:\n",
    "            data[index] = (word, prefix + '-' + replacing_entities[label_without_prefix])\n",
    "\n",
    "\n",
    "    new_file = name.split('.')[0] + '_cleaned.txt'\n",
    "    with open(new_file, 'w', encoding='utf-8') as file:\n",
    "        for word, label in data:\n",
    "            if word == \"newline\":\n",
    "                file.write('\\n')\n",
    "            else:\n",
    "                file.write(f'{word} {label}\\n')"
   ],
   "metadata": {
    "collapsed": false,
    "ExecuteTime": {
     "end_time": "2024-12-26T19:16:25.873026800Z",
     "start_time": "2024-12-26T19:16:23.373435Z"
    }
   },
   "id": "c91fc9eb97d5e509"
  }
 ],
 "metadata": {
  "kernelspec": {
   "display_name": "Python 3",
   "language": "python",
   "name": "python3"
  },
  "language_info": {
   "codemirror_mode": {
    "name": "ipython",
    "version": 2
   },
   "file_extension": ".py",
   "mimetype": "text/x-python",
   "name": "python",
   "nbconvert_exporter": "python",
   "pygments_lexer": "ipython2",
   "version": "2.7.6"
  }
 },
 "nbformat": 4,
 "nbformat_minor": 5
}
