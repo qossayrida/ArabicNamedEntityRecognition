{
 "cells": [
  {
   "cell_type": "markdown",
   "source": [
    "# Conditional Random Fields\n"
   ],
   "metadata": {
    "collapsed": false
   },
   "id": "714da4da48f1dcd5"
  },
  {
   "cell_type": "markdown",
   "source": [
    "### Import the data and prepare it for training"
   ],
   "metadata": {
    "collapsed": false
   },
   "id": "46d45ece4d05956e"
  },
  {
   "cell_type": "code",
   "execution_count": 1,
   "outputs": [],
   "source": [
    "import sys\n",
    "sys.path.append('../backend')\n",
    "from backend import assemblage\n",
    "\n",
    "data = assemblage.load_data(\"../data/train_cleaned.txt\")"
   ],
   "metadata": {
    "collapsed": false,
    "ExecuteTime": {
     "end_time": "2024-12-31T09:13:26.665339700Z",
     "start_time": "2024-12-31T09:13:25.192182900Z"
    }
   },
   "id": "c4c74c511623d243"
  },
  {
   "cell_type": "markdown",
   "source": [
    "### Training CRF model "
   ],
   "metadata": {
    "collapsed": false
   },
   "id": "730961ad3b48ccdc"
  },
  {
   "cell_type": "code",
   "execution_count": 2,
   "outputs": [
    {
     "name": "stdout",
     "output_type": "stream",
     "text": [
      "CRF model was trained.\n"
     ]
    }
   ],
   "source": [
    "from sklearn_crfsuite import CRF\n",
    "\n",
    "# Prepare X (features) and y (labels)\n",
    "X = [assemblage.extract_features_for_crf(sentence.split()) for sentence, labels in data]\n",
    "y = [labels for sentence, labels in data]\n",
    "\n",
    "crf = CRF(\n",
    "    algorithm='lbfgs',\n",
    "    c1=0.1,\n",
    "    c2=0.1,\n",
    "    max_iterations=100,\n",
    "    all_possible_transitions=True\n",
    ")\n",
    "\n",
    "crf.fit(X, y)\n",
    "print(\"CRF model was trained.\")"
   ],
   "metadata": {
    "collapsed": false,
    "ExecuteTime": {
     "end_time": "2024-12-31T09:20:00.230754800Z",
     "start_time": "2024-12-31T09:13:26.668346400Z"
    }
   },
   "id": "a8d7d8463d5c3ca7"
  },
  {
   "cell_type": "markdown",
   "source": [
    "### Evaluate the model"
   ],
   "metadata": {
    "collapsed": false
   },
   "id": "b51f4850dfcea96b"
  },
  {
   "cell_type": "code",
   "execution_count": 6,
   "outputs": [
    {
     "name": "stdout",
     "output_type": "stream",
     "text": [
      "\n",
      "Test Data Metrics:\n",
      "Test Precision: 0.9540, Test Recall: 0.9550, Test F1-Score: 0.9539, Test Accuracy: 0.9550\n",
      "\n",
      "Validation Data Metrics:\n",
      "Validation Precision: 0.9546, Validation Recall: 0.9558, Validation F1-Score: 0.9546, Validation Accuracy: 0.9558\n",
      "\n",
      "CRF model saved to crf_model.joblib\n"
     ]
    }
   ],
   "source": [
    "from sklearn.metrics import precision_score, recall_score, f1_score, accuracy_score\n",
    "from joblib import dump\n",
    "import os\n",
    "\n",
    "def calculate_metrics(true_labels, predicted_labels):\n",
    "    # Flatten the lists\n",
    "    true_flat = [label for seq in true_labels for label in seq]\n",
    "    pred_flat = [label for seq in predicted_labels for label in seq]\n",
    "\n",
    "    # Calculate metrics\n",
    "    precision = precision_score(true_flat, pred_flat, average='weighted', zero_division=0)\n",
    "    recall = recall_score(true_flat, pred_flat, average='weighted', zero_division=0)\n",
    "    f1 = f1_score(true_flat, pred_flat, average='weighted', zero_division=0)\n",
    "    accuracy = accuracy_score(true_flat, pred_flat)\n",
    "\n",
    "    return precision, recall, f1, accuracy\n",
    "\n",
    "# Load test data and prepare features and labels\n",
    "test_data = assemblage.load_data(\"../data/test_cleaned.txt\")\n",
    "X_test = [assemblage.extract_features_for_crf(sentence.split()) for sentence, labels in test_data]\n",
    "y_test = [labels for sentence, labels in test_data]\n",
    "\n",
    "# Predict using the trained CRF model\n",
    "y_pred_test = crf.predict(X_test)\n",
    "\n",
    "# Calculate metrics for test data\n",
    "test_precision, test_recall, test_f1, test_accuracy = calculate_metrics(y_test, y_pred_test)\n",
    "\n",
    "# Print test metrics\n",
    "print(\"\\nTest Data Metrics:\")\n",
    "print(f\"Test Precision: {test_precision:.4f}, Test Recall: {test_recall:.4f}, Test F1-Score: {test_f1:.4f}, Test Accuracy: {test_accuracy:.4f}\")\n",
    "\n",
    "# Load validation data and prepare features and labels\n",
    "val_data = assemblage.load_data(\"../data/val_cleaned.txt\")\n",
    "X_val = [assemblage.extract_features_for_crf(sentence.split()) for sentence, labels in val_data]\n",
    "y_val = [labels for sentence, labels in val_data]\n",
    "\n",
    "# Predict using the trained CRF model\n",
    "y_pred_val = crf.predict(X_val)\n",
    "\n",
    "# Calculate metrics for validation data\n",
    "val_precision, val_recall, val_f1, val_accuracy = calculate_metrics(y_val, y_pred_val)\n",
    "\n",
    "# Print validation metrics\n",
    "print(\"\\nValidation Data Metrics:\")\n",
    "print(f\"Validation Precision: {val_precision:.4f}, Validation Recall: {val_recall:.4f}, Validation F1-Score: {val_f1:.4f}, Validation Accuracy: {val_accuracy:.4f}\")\n",
    "\n",
    "# Create the directory if it doesn't exist\n",
    "os.makedirs(\"../model\", exist_ok=True)\n",
    "\n",
    "# Save the trained CRF model to a file\n",
    "dump(crf, '../model/crf_model.joblib')\n",
    "print(\"\\nCRF model saved to crf_model.joblib\")\n"
   ],
   "metadata": {
    "collapsed": false,
    "ExecuteTime": {
     "end_time": "2024-12-31T09:52:08.371952100Z",
     "start_time": "2024-12-31T09:52:00.449234400Z"
    }
   },
   "id": "b4f24557156ac93e"
  }
 ],
 "metadata": {
  "kernelspec": {
   "display_name": "Python 3",
   "language": "python",
   "name": "python3"
  },
  "language_info": {
   "codemirror_mode": {
    "name": "ipython",
    "version": 2
   },
   "file_extension": ".py",
   "mimetype": "text/x-python",
   "name": "python",
   "nbconvert_exporter": "python",
   "pygments_lexer": "ipython2",
   "version": "2.7.6"
  }
 },
 "nbformat": 4,
 "nbformat_minor": 5
}
