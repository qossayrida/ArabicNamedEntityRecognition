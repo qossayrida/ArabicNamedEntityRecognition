{
 "cells": [
  {
   "cell_type": "markdown",
   "source": [
    "# Conditional Random Fields\n"
   ],
   "metadata": {
    "collapsed": false
   },
   "id": "714da4da48f1dcd5"
  },
  {
   "cell_type": "markdown",
   "source": [
    "### Import the data and prepare it for training"
   ],
   "metadata": {
    "collapsed": false
   },
   "id": "46d45ece4d05956e"
  },
  {
   "cell_type": "code",
   "execution_count": 8,
   "outputs": [],
   "source": [
    "import sys\n",
    "sys.path.append('../backend')\n",
    "from assemblage import load_data\n",
    "\n",
    "data = load_data(\"../data/train_cleaned.txt\")"
   ],
   "metadata": {
    "collapsed": false,
    "ExecuteTime": {
     "end_time": "2024-12-26T21:31:23.184169400Z",
     "start_time": "2024-12-26T21:31:22.817017100Z"
    }
   },
   "id": "c4c74c511623d243"
  },
  {
   "cell_type": "markdown",
   "source": [
    "### Training CRF model "
   ],
   "metadata": {
    "collapsed": false
   },
   "id": "730961ad3b48ccdc"
  },
  {
   "cell_type": "code",
   "execution_count": 9,
   "outputs": [
    {
     "name": "stdout",
     "output_type": "stream",
     "text": [
      "CRF model was trained.\n"
     ]
    }
   ],
   "source": [
    "from backend import assemblage\n",
    "from sklearn_crfsuite import CRF\n",
    "\n",
    "# Prepare X (features) and y (labels)\n",
    "X = [assemblage.extract_features(sentence.split()) for sentence, labels in data]\n",
    "y = [labels for sentence, labels in data]\n",
    "\n",
    "crf = CRF(\n",
    "    algorithm='lbfgs',\n",
    "    c1=0.1,\n",
    "    c2=0.1,\n",
    "    max_iterations=100,\n",
    "    all_possible_transitions=True\n",
    ")\n",
    "\n",
    "crf.fit(X, y)\n",
    "print(\"CRF model was trained.\")"
   ],
   "metadata": {
    "collapsed": false,
    "ExecuteTime": {
     "end_time": "2024-12-26T21:32:14.581949800Z",
     "start_time": "2024-12-26T21:31:23.183168400Z"
    }
   },
   "id": "a8d7d8463d5c3ca7"
  },
  {
   "cell_type": "markdown",
   "source": [
    "### Evaluate the model"
   ],
   "metadata": {
    "collapsed": false
   },
   "id": "b51f4850dfcea96b"
  },
  {
   "cell_type": "code",
   "execution_count": 10,
   "outputs": [
    {
     "name": "stdout",
     "output_type": "stream",
     "text": [
      "Training data:\n",
      "              precision    recall  f1-score   support\n",
      "\n",
      "       B-EVE       0.99      0.98      0.98      1850\n",
      "       B-LAN       1.00      0.86      0.92       139\n",
      "       B-LOC       0.95      0.96      0.95      8130\n",
      "       B-MON       0.99      0.90      0.94       187\n",
      "       B-NUM       0.97      0.94      0.95      1426\n",
      "       B-ORG       0.98      0.97      0.98     11150\n",
      "       B-PER       0.99      0.95      0.97      8106\n",
      "      B-TIME       0.99      0.98      0.98     11014\n",
      "       I-EVE       0.98      0.98      0.98      4107\n",
      "       I-LAN       1.00      1.00      1.00         4\n",
      "       I-LOC       0.98      0.99      0.98      6121\n",
      "       I-MON       0.99      1.00      1.00       314\n",
      "       I-NUM       0.97      0.99      0.98       544\n",
      "       I-ORG       0.98      0.99      0.98     16342\n",
      "       I-PER       0.99      0.98      0.98      7635\n",
      "      I-TIME       0.97      0.99      0.98     39600\n",
      "           O       0.99      0.99      0.99    274329\n",
      "\n",
      "    accuracy                           0.99    390998\n",
      "   macro avg       0.98      0.97      0.97    390998\n",
      "weighted avg       0.99      0.99      0.99    390998\n",
      "\n",
      "\n",
      "Test data:\n",
      "              precision    recall  f1-score   support\n",
      "\n",
      "       B-EVE       0.97      0.93      0.95      2400\n",
      "       B-LAN       0.99      0.77      0.87       183\n",
      "       B-LOC       0.94      0.93      0.93     10562\n",
      "       B-MON       0.98      0.85      0.91       228\n",
      "       B-NUM       0.94      0.90      0.92      1809\n",
      "       B-ORG       0.97      0.95      0.96     14331\n",
      "       B-PER       0.97      0.90      0.93     10531\n",
      "      B-TIME       0.98      0.97      0.97     14126\n",
      "       I-EVE       0.94      0.90      0.92      5313\n",
      "       I-LAN       1.00      0.80      0.89         5\n",
      "       I-LOC       0.97      0.97      0.97      7979\n",
      "       I-MON       0.99      0.96      0.97       383\n",
      "       I-NUM       0.94      0.97      0.95       688\n",
      "       I-ORG       0.97      0.97      0.97     20922\n",
      "       I-PER       0.97      0.93      0.95      9911\n",
      "      I-TIME       0.97      0.99      0.98     50680\n",
      "           O       0.99      0.99      0.99    354672\n",
      "\n",
      "    accuracy                           0.98    504723\n",
      "   macro avg       0.97      0.92      0.94    504723\n",
      "weighted avg       0.98      0.98      0.98    504723\n",
      "\n",
      "\n",
      "Validation data:\n",
      "              precision    recall  f1-score   support\n",
      "\n",
      "       B-EVE       0.97      0.91      0.94      2682\n",
      "       B-LAN       0.99      0.75      0.85       199\n",
      "       B-LOC       0.93      0.92      0.93     11687\n",
      "       B-MON       0.98      0.82      0.89       252\n",
      "       B-NUM       0.92      0.88      0.90      1994\n",
      "       B-ORG       0.96      0.95      0.96     15908\n",
      "       B-PER       0.96      0.88      0.92     11650\n",
      "      B-TIME       0.98      0.96      0.97     15751\n",
      "       I-EVE       0.93      0.88      0.90      5902\n",
      "       I-LAN       1.00      0.57      0.73         7\n",
      "       I-LOC       0.96      0.96      0.96      8832\n",
      "       I-MON       0.99      0.93      0.96       423\n",
      "       I-NUM       0.92      0.96      0.94       737\n",
      "       I-ORG       0.96      0.96      0.96     23223\n",
      "       I-PER       0.96      0.92      0.94     10920\n",
      "      I-TIME       0.97      0.99      0.98     56485\n",
      "           O       0.99      0.99      0.99    395626\n",
      "\n",
      "    accuracy                           0.98    562278\n",
      "   macro avg       0.96      0.90      0.92    562278\n",
      "weighted avg       0.98      0.98      0.98    562278\n",
      "\n",
      "CRF model saved to crf_model.joblib\n"
     ]
    }
   ],
   "source": [
    "from sklearn_crfsuite.metrics import flat_classification_report\n",
    "from joblib import dump\n",
    "import os\n",
    "\n",
    "y_pred = crf.predict(X)\n",
    "print(\"Training data:\")\n",
    "print(flat_classification_report(y, y_pred))\n",
    "\n",
    "test_data = load_data(\"../data/test_cleaned.txt\")\n",
    "X_test = [assemblage.extract_features(sentence.split()) for sentence, labels in test_data]\n",
    "y_test = [labels for sentence, labels in test_data]\n",
    "y_pred_test = crf.predict(X_test)\n",
    "print(\"\\n\\nTest data:\")\n",
    "print(flat_classification_report(y_test, y_pred_test))\n",
    "\n",
    "val_data = load_data(\"../data/val_cleaned.txt\")\n",
    "X_val = [assemblage.extract_features(sentence.split()) for sentence, labels in val_data]\n",
    "y_val = [labels for sentence, labels in val_data]\n",
    "y_pred_val = crf.predict(X_val)\n",
    "print(\"\\n\\nValidation data:\")\n",
    "print(flat_classification_report(y_val, y_pred_val))\n",
    "\n",
    "# Create the directory if it doesn't exist\n",
    "os.makedirs(\"model\", exist_ok=True)\n",
    "# Save the trained CRF model to a file\n",
    "dump(crf, 'model/crf_model.joblib')\n",
    "print(\"CRF model saved to crf_model.joblib\")\n"
   ],
   "metadata": {
    "collapsed": false,
    "ExecuteTime": {
     "end_time": "2024-12-26T21:32:28.467211800Z",
     "start_time": "2024-12-26T21:32:14.583048600Z"
    }
   },
   "id": "b4f24557156ac93e"
  }
 ],
 "metadata": {
  "kernelspec": {
   "display_name": "Python 3",
   "language": "python",
   "name": "python3"
  },
  "language_info": {
   "codemirror_mode": {
    "name": "ipython",
    "version": 2
   },
   "file_extension": ".py",
   "mimetype": "text/x-python",
   "name": "python",
   "nbconvert_exporter": "python",
   "pygments_lexer": "ipython2",
   "version": "2.7.6"
  }
 },
 "nbformat": 4,
 "nbformat_minor": 5
}
