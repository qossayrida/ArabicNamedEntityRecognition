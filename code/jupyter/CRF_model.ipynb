{
 "cells": [
  {
   "cell_type": "markdown",
   "source": [
    "# Conditional Random Fields\n"
   ],
   "metadata": {
    "collapsed": false
   },
   "id": "714da4da48f1dcd5"
  },
  {
   "cell_type": "markdown",
   "source": [
    "### "
   ],
   "metadata": {
    "collapsed": false
   },
   "id": "46d45ece4d05956e"
  },
  {
   "cell_type": "code",
   "execution_count": 25,
   "outputs": [],
   "source": [
    "data = []  # To store (sentence, labels) tuples\n",
    "sentence = []\n",
    "labels = []\n",
    "\n",
    "with open('data/train_cleaned.txt', 'r', encoding='utf-8') as file:\n",
    "    for line in file:\n",
    "        line = line.strip()\n",
    "\n",
    "        # Split sentences at empty lines\n",
    "        if not line:\n",
    "            if sentence:  # If we have a completed sentence\n",
    "                data.append((\" \".join(sentence), labels))\n",
    "                sentence = []\n",
    "                labels = []\n",
    "            continue\n",
    "        \n",
    "        # Split the word and its label\n",
    "        word, label = line.rsplit(' ', 1)\n",
    "        sentence.append(word)\n",
    "        labels.append(label)\n",
    "\n",
    "# Add the last sentence if file doesn't end with a blank line\n",
    "if sentence:\n",
    "    data.append((\" \".join(sentence), labels)) "
   ],
   "metadata": {
    "collapsed": false,
    "ExecuteTime": {
     "end_time": "2024-12-26T19:24:52.038035900Z",
     "start_time": "2024-12-26T19:24:51.383408Z"
    }
   },
   "id": "c4c74c511623d243"
  },
  {
   "cell_type": "markdown",
   "source": [
    "###"
   ],
   "metadata": {
    "collapsed": false
   },
   "id": "730961ad3b48ccdc"
  },
  {
   "cell_type": "code",
   "execution_count": 26,
   "outputs": [
    {
     "name": "stdout",
     "output_type": "stream",
     "text": [
      "CRF model was trained.\n"
     ]
    }
   ],
   "source": [
    "from backend import Collection\n",
    "from sklearn_crfsuite import CRF\n",
    "\n",
    "# Prepare X (features) and y (labels)\n",
    "X = [Collection.extract_features(sentence.split()) for sentence, labels in data]\n",
    "y = [labels for sentence, labels in data]\n",
    "\n",
    "crf = CRF(\n",
    "    algorithm='lbfgs',\n",
    "    c1=0.1,\n",
    "    c2=0.1,\n",
    "    max_iterations=100,\n",
    "    all_possible_transitions=True\n",
    ")\n",
    "\n",
    "crf.fit(X, y)\n",
    "print(\"CRF model was trained.\")"
   ],
   "metadata": {
    "collapsed": false,
    "ExecuteTime": {
     "end_time": "2024-12-26T19:25:35.187769700Z",
     "start_time": "2024-12-26T19:24:52.039261700Z"
    }
   },
   "id": "a8d7d8463d5c3ca7"
  },
  {
   "cell_type": "markdown",
   "source": [
    "### "
   ],
   "metadata": {
    "collapsed": false
   },
   "id": "b51f4850dfcea96b"
  },
  {
   "cell_type": "code",
   "execution_count": 27,
   "outputs": [
    {
     "name": "stdout",
     "output_type": "stream",
     "text": [
      "              precision    recall  f1-score   support\n",
      "\n",
      "       B-EVE       0.99      0.98      0.98      1850\n",
      "       B-LAN       1.00      0.86      0.92       139\n",
      "       B-LOC       0.95      0.96      0.95      8130\n",
      "       B-MON       0.99      0.90      0.94       187\n",
      "       B-NUM       0.97      0.94      0.95      1426\n",
      "       B-ORG       0.98      0.97      0.98     11150\n",
      "       B-PER       0.99      0.95      0.97      8106\n",
      "      B-TIME       0.99      0.98      0.98     11014\n",
      "       I-EVE       0.98      0.98      0.98      4107\n",
      "       I-LAN       1.00      1.00      1.00         4\n",
      "       I-LOC       0.98      0.99      0.98      6121\n",
      "       I-MON       0.99      1.00      1.00       314\n",
      "       I-NUM       0.97      0.99      0.98       544\n",
      "       I-ORG       0.98      0.99      0.98     16342\n",
      "       I-PER       0.99      0.98      0.98      7635\n",
      "      I-TIME       0.97      0.99      0.98     39600\n",
      "           O       0.99      0.99      0.99    274329\n",
      "\n",
      "    accuracy                           0.99    390998\n",
      "   macro avg       0.98      0.97      0.97    390998\n",
      "weighted avg       0.99      0.99      0.99    390998\n",
      "\n",
      "CRF model saved to crf_model.joblib\n"
     ]
    }
   ],
   "source": [
    "from sklearn_crfsuite.metrics import flat_classification_report\n",
    "from joblib import dump\n",
    "import os\n",
    "\n",
    "y_pred = crf.predict(X)\n",
    "print(flat_classification_report(y, y_pred))\n",
    "\n",
    "# Create the directory if it doesn't exist\n",
    "os.makedirs(\"model\", exist_ok=True)\n",
    "# Save the trained CRF model to a file\n",
    "dump(crf, 'model/crf_model.joblib')\n",
    "print(\"CRF model saved to crf_model.joblib\")\n"
   ],
   "metadata": {
    "collapsed": false,
    "ExecuteTime": {
     "end_time": "2024-12-26T19:25:38.382160200Z",
     "start_time": "2024-12-26T19:25:35.189770300Z"
    }
   },
   "id": "b4f24557156ac93e"
  }
 ],
 "metadata": {
  "kernelspec": {
   "display_name": "Python 3",
   "language": "python",
   "name": "python3"
  },
  "language_info": {
   "codemirror_mode": {
    "name": "ipython",
    "version": 2
   },
   "file_extension": ".py",
   "mimetype": "text/x-python",
   "name": "python",
   "nbconvert_exporter": "python",
   "pygments_lexer": "ipython2",
   "version": "2.7.6"
  }
 },
 "nbformat": 4,
 "nbformat_minor": 5
}
